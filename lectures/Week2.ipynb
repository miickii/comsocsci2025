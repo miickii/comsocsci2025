{
 "cells": [
  {
   "cell_type": "markdown",
   "metadata": {},
   "source": [
    "# Week 2"
   ]
  },
  {
   "cell_type": "markdown",
   "metadata": {
    "collapsed": true
   },
   "source": [
    "## Today\n",
    "\n",
    "In this lecture, we will continue to work on the data. As you may have already noticed from the previous class, working with real-world data is not easy! It involves taking one decision after another, to ensure that the results we obtain are reliable. \n",
    "My goal is for you to learn how to take these decisions on your own and understand the consequences that these choices may have on your analysis and results. Today, we will learn more about different data sources for Computational Social Science, and some of the challenges that they present. \n",
    "\n",
    "Here is the plan for the lecture. \n",
    "\n",
    "* **Part 1:** We will learn the differences between **different kinds of data sources**. We will go through the theory, then I will ask you to reflect about what you have learned through an exercise. \n",
    "\n",
    "* **Part 2:**  In the second part of this class, I will introduce you to **APIs**. We will then use one API to continue our investigation of the field of Computational Social Science in a data-driven way.\n",
    "  "
   ]
  },
  {
   "cell_type": "markdown",
   "metadata": {},
   "source": [
    "## Part 1: Data Sources for Computational Social Science\n",
    "\n",
    "\n",
    "We have seen how __DATA__ is central to Computational Social Science. But what data sources are we talking about? What are the limitations of different types of data sources? In the video below, I will give you an introduction to different types of data sources. As an example, I will introduce you to two studies that use two very different datasets to answer related questions. "
   ]
  },
  {
   "cell_type": "markdown",
   "metadata": {},
   "source": [
    "\n",
    "> **_Video lecture_**: Watch the video below about Data Sources in Computational Social Science\n",
    ">\n",
    "> *Optional Reading: [The Spread of Behavior in an Online Social Network Experiment.](https://www.science.org/doi/full/10.1126/science.1185231)* This is the article describing the first study I talk about in the video.    \n",
    "> *Optional Reading: [Exercise contagion in a global social network.](https://www.nature.com/articles/ncomms14753)* This is the article describing the second study I talk about in the video.    "
   ]
  },
  {
   "cell_type": "code",
   "execution_count": 1,
   "metadata": {},
   "outputs": [
    {
     "data": {
      "image/jpeg": "[encoded data removed]",
      "text/html": [
       "\n",
       "        <iframe\n",
       "            width=\"600\"\n",
       "            height=\"337.5\"\n",
       "            src=\"https://www.youtube.com/embed/Hr5yKJaQUhE\"\n",
       "            frameborder=\"0\"\n",
       "            allowfullscreen\n",
       "            \n",
       "        ></iframe>\n",
       "        "
      ],
      "text/plain": [
       "<IPython.lib.display.YouTubeVideo at 0x7f8f1868b880>"
      ]
     },
     "execution_count": 1,
     "metadata": {},
     "output_type": "execute_result"
    }
   ],
   "source": [
    "from IPython.display import YouTubeVideo\n",
    "YouTubeVideo(\"Hr5yKJaQUhE\",width=600, height=337.5)\n"
   ]
  },
  {
   "cell_type": "markdown",
   "metadata": {},
   "source": [
    "In this course, we are going to focus mostly on observational data collected online to address social science questions. So, I would like us to reflect a little bit more on what it means to use *Ready made* data in the social science, and understand its advantages and challenges. This is something that you can read about in Sections 2.1 to 2.3 of the book _Bit by Bit_. \n",
    "\n",
    "> *Reading*: [Bit by Bit, sections 2.1 to 2.3](https://www.bitbybitbook.com/en/1st-ed/observing-behavior/observing-intro/) Read sections 2.1 to 2.3. I don't expect you to read all the details, but to have a general understanding of advantages and challenges of large observational datasets (a.k.a. Big Data/Ready made data) for social science research. *If you have problems accessing the book, you can find a pdf version of the book [here](https://github.com/lalessan/comsocsci2024/tree/main/figures).*"
   ]
  },
  {
   "cell_type": "markdown",
   "metadata": {},
   "source": [
    "> **Exercise 1: Ready made data vs Custom made data** In this exercise, I want to make sure you have understood they key points of my lecture and the reading. Remember to come and ask me, if you have any question about this! \n",
    ">\n",
    "> 1. What are pros and cons of the custom-made data used in Centola's experiment (the first study presented in the lecture) and the ready-made data used in Nicolaides's study (the second study presented in the lecture)? You can support your arguments based on the content of the lecture and the information you read in Chapter 2.3 of the book. \n",
    "> 2. How do you think these differences can influence the interpretation of the results in each study?"
   ]
  },
  {
   "cell_type": "markdown",
   "metadata": {},
   "source": [
    "## 1.1\n",
    "### Centola's experiment\n",
    "#### Pros:\n",
    "- The results are useful in order to best select which people to select the next time  \n",
    "- The data is nonreactive, which means that they are unaware about the experiment and therefore aren't biased  \n",
    "- They have access to all data since it's custom made  \n",
    "- The data is clean, no bots no spam  \n",
    "\n",
    "#### Cons:\n",
    "- Not much data  \n",
    "- Takes time  \n",
    "- The demographic isn't very wide, since the participants have to agree to the survey. This requires a special type of person  \n",
    "\n",
    "### Nicolaides's study\n",
    "#### Pros:\n",
    "- Always on, the data is always updated  \n",
    "- Large data  \n",
    "- Nonreactive  \n",
    "- Complete, clean and accessible data, they have all variables required\n",
    "\n",
    "#### Cons:\n",
    "- The data is nonrepresentative, the population isn't varied, they collect data from the app that only runners use  \n",
    "- There could be many confounders, such as variables as weather and vacations\n",
    "\n",
    "## 1.2\n",
    "For Centola's experiment the data is controlled and clean, so the observed effects are causally related to the design of the experiment. However since the data is nonpresentative it can't necessarily be generalized to the broader population. The findings may only apply to a specific demographic that self-selected into the study, and the effects may not hold in real-world, more diverse settings.\n",
    "\n",
    "For Nicolaides's study uses large-scale, real-world data, capturing social behavior over time. While this improves generalizability, confounders like weather or socioeconomic factors may bias results. Additionally, since the data comes from a runners' app, findings may not apply to non-runners.\n",
    "\n",
    "#### The trade-off between control vs. generalizability is key:\n",
    "Centola's experiment provides high internal validity (causality is clear) but low external validity (hard to generalize).\n",
    "Nicolaides's study offers high external validity (reflects real-world behavior) but lower internal validity (difficult to establish causal relationships)."
   ]
  },
  {
   "cell_type": "markdown",
   "metadata": {},
   "source": [
    "## Part 2: Using APIs to download  data\n",
    "\n",
    "In this class, we will work with *Ready made* data. The second thing we will learn today is how to get data ready made data using APIs. We will do it using the Academic Graph API provided by Semantic Scholar. The Academic Graph API enables you to gather information on scientists and their publications. "
   ]
  },
  {
   "cell_type": "code",
   "execution_count": 6,
   "metadata": {},
   "outputs": [
    {
     "data": {
      "image/jpeg": "[encoded data removed]",
      "text/html": [
       "\n",
       "        <iframe\n",
       "            width=\"600\"\n",
       "            height=\"337.5\"\n",
       "            src=\"https://www.youtube.com/embed/7AQO3vJptvg\"\n",
       "            frameborder=\"0\"\n",
       "            allowfullscreen\n",
       "            \n",
       "        ></iframe>\n",
       "        "
      ],
      "text/plain": [
       "<IPython.lib.display.YouTubeVideo at 0x7f8ef0910220>"
      ]
     },
     "execution_count": 6,
     "metadata": {},
     "output_type": "execute_result"
    }
   ],
   "source": [
    "from IPython.display import YouTubeVideo\n",
    "YouTubeVideo(\"7AQO3vJptvg\",width=600, height=337.5)\n"
   ]
  },
  {
   "cell_type": "markdown",
   "metadata": {},
   "source": [
    "> **Exercise 2: APIs for Computational Social Science research.** In this excercise, I ask you to look for an API that one could use for Computational Social Science. Starting from your answers, I will compile a list of useful APIs, and share it with the class next week. It may come handy when you start working on your project.\n",
    "> *Note: the answers to the surveys on DTU Learn are not contributing to your final grade, but it is still important to fill them in, because they help me ensure that you are on track with the material.* \n",
    ">\n",
    "> - Use the web to look for one API that could be used for gathering interesting data (from a Computational Social Science perspective). \n",
    ">     - *Data description*: describe in a couple of lines the data types that you can gather using this API\n",
    ">     - *Rate limits*: What are the rate limits of the free version of the API?\n",
    ">     - *Link to the API*: Add the link to the API.\n",
    "> - Go on DTU Learn and fill in the survey *[Week 2 - APIs](https://learn.inside.dtu.dk/d2l/lms/survey/user/attempt/survey_start_frame.d2l?si=31329&ou=242061)*\n"
   ]
  },
  {
   "cell_type": "markdown",
   "metadata": {},
   "source": [
    "## Prelude to part 3: Pandas Dataframes\n"
   ]
  },
  {
   "cell_type": "markdown",
   "metadata": {},
   "source": [
    "Before starting, we will learn a bit about [pandas dataframes](https://pandas.pydata.org/pandas-docs/stable/generated/pandas.DataFrame.html), a very user-friendly data structure that you can use to manipulate tabular data. Pandas dataframes are built using numpy, which is in turn built in C, so they are a quite efficient data structure. You will find it quite useful :)\n",
    "\n",
    "Pandas dataframes should be intuitive to use. **I suggest you to go through the [10 minutes to Pandas tutorial](https://pandas.pydata.org/pandas-docs/stable/user_guide/10min.html) to learn what you need to follow the rest of the course.**\n",
    "\n",
    "\n",
    "\n",
    "\n",
    "**_Video lecture_**: Watch the video below about Pandas, [here is the notebook I used in the video](https://nbviewer.org/github/TheYuanLiao/comsocsci2025/blob/main/additional_notebooks/Pandas.ipynb) "
   ]
  },
  {
   "cell_type": "code",
   "execution_count": 9,
   "metadata": {},
   "outputs": [
    {
     "data": {
      "image/jpeg": "[encoded data removed]",
      "text/html": [
       "\n",
       "        <iframe\n",
       "            width=\"600\"\n",
       "            height=\"337.5\"\n",
       "            src=\"https://www.youtube.com/embed/pM7IKcyfOV4\"\n",
       "            frameborder=\"0\"\n",
       "            allowfullscreen\n",
       "            \n",
       "        ></iframe>\n",
       "        "
      ],
      "text/plain": [
       "<IPython.lib.display.YouTubeVideo at 0x7f8ef0910280>"
      ]
     },
     "execution_count": 9,
     "metadata": {},
     "output_type": "execute_result"
    }
   ],
   "source": [
    "from IPython.display import YouTubeVideo\n",
    "YouTubeVideo(\"pM7IKcyfOV4\",width=600, height=337.5)"
   ]
  },
  {
   "cell_type": "markdown",
   "metadata": {},
   "source": [
    "## Part 3: Getting data on Computational Social Scientists from the OpenAlex API"
   ]
  },
  {
   "cell_type": "markdown",
   "metadata": {},
   "source": [
    "All right, let's dive in! We're going to start collecting data on Computational Social Scientists and their work. \n",
    "As you will see, getting to the final dataset will take a few iterations and will require you to handle lots of data, but I'm confident you'll find it rewarding in the end. \n",
    "To help you throughout, I've broken down the process into manageable steps and provided strategies to help you tackle each one effectively.\n",
    "\n",
    "Feel free to team up with a classmate or two for this project (remember, you'll be submitting assignments as a group of three). \n",
    "If you run into any issues or have questions, don't hesitate to ask me. Working with real-world data can be frustrating at times, but I'm here to help!"
   ]
  },
  {
   "cell_type": "markdown",
   "metadata": {},
   "source": [
    "> **Exercise : Find potential Computational Social Scientists** In this exercise, we'll use the OpenAlex API to compile a list of researchers in the field of Computational Social Science, focusing on those who have attended the IC2S2 conference in **2024** (NOT 2023). This will not only later on help you understand the landscape of Computational Social Science research but also develop practical skills in data collection and analysis.\n",
    ">\n",
    "> Please read the text of the whole exercise before starting to work on it. \n",
    ">\n",
    "> **Steps**\n",
    "> \n",
    "> 1. **Retreive data.** Consider the set of unique researcher names that you collected in Week 1, Exercise 3. Use the _authors_ endpoint of the [OpenAlex API](https://docs.openalex.org/api-entities/authors) to _search_ these researchers in the database based on their names. Loop through the list and, for each researcher in your list, find: \n",
    ">     - their _id_: The OpenAlex ID for this author.\n",
    ">     - their _display\\_name_: The name of the author as a single string.\n",
    ">     - their _works\\_api\\_url_: A URL that will get you a list of all this author's works.\n",
    ">     - their _h\\_index_ : The h-index for this author.\n",
    ">     - their _works\\_count_: The number of Works this author has created.\n",
    ">     - their _country\\_code_: The country code of their last known institution.\n",
    "> 2. **Data Storage** Store this information in a Pandas DataFrame and save it to file.\n",
    ">    \n",
    "> **Handling Challenges**\n",
    "> \n",
    "> While working on the steps above, you will face several challenges, such as missing names or multiple results for a single name. Here are some of the issues you may run into and a possible way to address them. *Note: you may also find other ways to address these issues, which is ok. However, if you decide to use a different strategy, please come and talk to me first*\n",
    ">    - *Problem:* an author is not found. *A possible solution:* you can discard that author.\n",
    ">    - *Problem:* you get more than one result for the same name. *A possible solution:* You can pick the name with the highest relevance.\n",
    ">    - *Problem:* None of the authors returned by the API has a name that is ``close enough'' to the name you searched for. *A possible solution:* you can discard that author.\n",
    ">    - *Problem:* Your for loop keeps breaking due to unforeseen errors. *A possible solution:* to prevent losing data due to errors, save your progress frequently.\n",
    ">\n",
    "> **Reflection Questions**\n",
    "> \n",
    ">  Answer the following questions: \n",
    ">    - Did you encounter any challenges not listed here? How did you address them?\n",
    ">    - Choose one problem you faced while collecting the data and describe your solution. Why did you choose this approach, and what impact might it have on your data? \n",
    ">      \n",
    "> Remember, if you're unsure about any steps or encounter hurdles, please reach out."
   ]
  },
  {
   "cell_type": "code",
   "execution_count": 6,
   "metadata": {},
   "outputs": [
    {
     "name": "stdout",
     "output_type": "stream",
     "text": [
      "1231\n"
     ]
    }
   ],
   "source": [
    "with open(\"files/researcher_names_2024.txt\") as f:\n",
    "    researcher_names = f.read().splitlines()\n",
    "\n",
    "print(len(researcher_names))"
   ]
  },
  {
   "cell_type": "code",
   "execution_count": 25,
   "metadata": {},
   "outputs": [],
   "source": [
    "import requests\n",
    "\n",
    "URL = \"https://api.openalex.org/authors\"\n",
    "\n",
    "data_list = []\n",
    "\n",
    "# Loop through researcher names\n",
    "for name in researcher_names:\n",
    "    params = {\n",
    "        'search': name,\n",
    "        \"select\": \"id,display_name,works_api_url,summary_stats,works_count,last_known_institutions\"\n",
    "    }\n",
    "    \n",
    "    response = requests.get(URL, params=params)\n",
    "    \n",
    "    if response.status_code == 200:\n",
    "        results = response.json().get('results', [])\n",
    "\n",
    "        if results:\n",
    "            result = results[0]\n",
    "            author_id = result.get('id', '')\n",
    "            display_name = result.get('display_name', '')\n",
    "            works_api_url = result.get('works_api_url', '')\n",
    "            works_count = result.get('works_count', 0)\n",
    "            h_index = result.get('summary_stats', 0).get('h_index', 0)\n",
    "            country_code = result.get('last_known_institutions', '')\n",
    "            if country_code:\n",
    "                country_code = country_code[0].get('country_code', '')\n",
    "\n",
    "\n",
    "            # Append to list\n",
    "            data_list.append({\n",
    "                \"ID\": author_id,\n",
    "                \"Name\": display_name,\n",
    "                \"Works API URL\": works_api_url,\n",
    "                \"Works Count\": works_count,\n",
    "                \"H-Index\": h_index,\n",
    "                \"Country Code\": country_code\n",
    "            })\n",
    "        else:\n",
    "            data_list.append({\n",
    "                \"ID\": '',\n",
    "                \"Name\": name,\n",
    "                \"Works API URL\": '',\n",
    "                \"Works Count\": '',\n",
    "                \"H-Index\": '',\n",
    "                \"Country Code\": ''\n",
    "            })\n",
    "    else:\n",
    "        print(f\"Error fetching data for {name}: {response.status_code}\")"
   ]
  },
  {
   "cell_type": "code",
   "execution_count": 27,
   "metadata": {},
   "outputs": [
    {
     "data": {
      "text/html": [
       "<div>\n",
       "<style scoped>\n",
       "    .dataframe tbody tr th:only-of-type {\n",
       "        vertical-align: middle;\n",
       "    }\n",
       "\n",
       "    .dataframe tbody tr th {\n",
       "        vertical-align: top;\n",
       "    }\n",
       "\n",
       "    .dataframe thead th {\n",
       "        text-align: right;\n",
       "    }\n",
       "</style>\n",
       "<table border=\"1\" class=\"dataframe\">\n",
       "  <thead>\n",
       "    <tr style=\"text-align: right;\">\n",
       "      <th></th>\n",
       "      <th>ID</th>\n",
       "      <th>Name</th>\n",
       "      <th>Works API URL</th>\n",
       "      <th>Works Count</th>\n",
       "      <th>H-Index</th>\n",
       "      <th>Country Code</th>\n",
       "    </tr>\n",
       "  </thead>\n",
       "  <tbody>\n",
       "    <tr>\n",
       "      <th>0</th>\n",
       "      <td>https://openalex.org/A5082130337</td>\n",
       "      <td>A. Marthe Möller</td>\n",
       "      <td>https://api.openalex.org/works?filter=author.i...</td>\n",
       "      <td>13</td>\n",
       "      <td>6</td>\n",
       "      <td>NL</td>\n",
       "    </tr>\n",
       "    <tr>\n",
       "      <th>1</th>\n",
       "      <td>https://openalex.org/A5014647140</td>\n",
       "      <td>Aaron Clauset</td>\n",
       "      <td>https://api.openalex.org/works?filter=author.i...</td>\n",
       "      <td>284</td>\n",
       "      <td>48</td>\n",
       "      <td>US</td>\n",
       "    </tr>\n",
       "    <tr>\n",
       "      <th>2</th>\n",
       "      <td>https://openalex.org/A5089395967</td>\n",
       "      <td>Aaron Nichols</td>\n",
       "      <td>https://api.openalex.org/works?filter=author.i...</td>\n",
       "      <td>10</td>\n",
       "      <td>2</td>\n",
       "      <td>US</td>\n",
       "    </tr>\n",
       "    <tr>\n",
       "      <th>3</th>\n",
       "      <td>https://openalex.org/A5047404909</td>\n",
       "      <td>Aaron J. Schwartz</td>\n",
       "      <td>https://api.openalex.org/works?filter=author.i...</td>\n",
       "      <td>32</td>\n",
       "      <td>10</td>\n",
       "      <td>US</td>\n",
       "    </tr>\n",
       "    <tr>\n",
       "      <th>4</th>\n",
       "      <td>https://openalex.org/A5053043999</td>\n",
       "      <td>Aaron J. Schein</td>\n",
       "      <td>https://api.openalex.org/works?filter=author.i...</td>\n",
       "      <td>19</td>\n",
       "      <td>16</td>\n",
       "      <td>US</td>\n",
       "    </tr>\n",
       "  </tbody>\n",
       "</table>\n",
       "</div>"
      ],
      "text/plain": [
       "                                 ID               Name  \\\n",
       "0  https://openalex.org/A5082130337   A. Marthe Möller   \n",
       "1  https://openalex.org/A5014647140      Aaron Clauset   \n",
       "2  https://openalex.org/A5089395967      Aaron Nichols   \n",
       "3  https://openalex.org/A5047404909  Aaron J. Schwartz   \n",
       "4  https://openalex.org/A5053043999    Aaron J. Schein   \n",
       "\n",
       "                                       Works API URL Works Count H-Index  \\\n",
       "0  https://api.openalex.org/works?filter=author.i...          13       6   \n",
       "1  https://api.openalex.org/works?filter=author.i...         284      48   \n",
       "2  https://api.openalex.org/works?filter=author.i...          10       2   \n",
       "3  https://api.openalex.org/works?filter=author.i...          32      10   \n",
       "4  https://api.openalex.org/works?filter=author.i...          19      16   \n",
       "\n",
       "  Country Code  \n",
       "0           NL  \n",
       "1           US  \n",
       "2           US  \n",
       "3           US  \n",
       "4           US  "
      ]
     },
     "execution_count": 27,
     "metadata": {},
     "output_type": "execute_result"
    }
   ],
   "source": [
    "import pandas as pd\n",
    "\n",
    "# Convert list to DataFrame\n",
    "df = pd.DataFrame(data_list)\n",
    "df.head()"
   ]
  },
  {
   "cell_type": "code",
   "execution_count": 28,
   "metadata": {},
   "outputs": [],
   "source": [
    "df.to_csv(\"researchers_data.csv\", index=False)"
   ]
  },
  {
   "cell_type": "markdown",
   "metadata": {},
   "source": [
    "# Optimized fetching"
   ]
  },
  {
   "cell_type": "code",
   "execution_count": 7,
   "metadata": {},
   "outputs": [
    {
     "name": "stdout",
     "output_type": "stream",
     "text": [
      "Error fetching data for Ayush Kanodia: 429\n",
      "Error fetching data for Bedoor AlShebli: 429\n",
      "Error fetching data for Calvin Yixiang Cheng: 429\n",
      "Error fetching data for Carla Freitas Silveira Netto: 429\n",
      "Error fetching data for Daniel E. Ho: 429\n",
      "Error fetching data for David Fang: 429\n",
      "Error fetching data for David Gamba: 429\n",
      "Error fetching data for Dilrukshi Gamage: 429\n",
      "Error fetching data for Eduardo López: 429\n",
      "Error fetching data for Fynn Bachmann: 429\n",
      "Error fetching data for Henrik Olsson: 429\n",
      "Fetched data for 1220 authors.\n"
     ]
    }
   ],
   "source": [
    "import requests\n",
    "\n",
    "URL = \"https://api.openalex.org/authors\"\n",
    "data_list = []\n",
    "\n",
    "# Use a session to reuse connections\n",
    "with requests.Session() as session:\n",
    "    for name in researcher_names:\n",
    "        params = {\n",
    "            'search': name,\n",
    "            \"select\": \"id,display_name,works_api_url,summary_stats,works_count,last_known_institutions\"\n",
    "        }\n",
    "        \n",
    "        response = session.get(URL, params=params)\n",
    "        \n",
    "        if response.status_code == 200:\n",
    "            results = response.json().get('results', [])\n",
    "            if results:\n",
    "                result = results[0]\n",
    "                author_id = result.get('id', '')\n",
    "                display_name = result.get('display_name', '')\n",
    "                works_api_url = result.get('works_api_url', '')\n",
    "                works_count = result.get('works_count', 0)\n",
    "                h_index = result.get('summary_stats', 0).get('h_index', 0)\n",
    "                country_code = result.get('last_known_institutions', '')\n",
    "                if country_code:\n",
    "                    country_code = country_code[0].get('country_code', '')\n",
    "\n",
    "\n",
    "                # Append to list\n",
    "                data_list.append({\n",
    "                    \"ID\": author_id,\n",
    "                    \"Name\": display_name,\n",
    "                    \"Works API URL\": works_api_url,\n",
    "                    \"Works Count\": works_count,\n",
    "                    \"H-Index\": h_index,\n",
    "                    \"Country Code\": country_code\n",
    "                })\n",
    "            else:\n",
    "                data_list.append({\n",
    "                    \"ID\": '',\n",
    "                    \"Name\": name,\n",
    "                    \"Works API URL\": '',\n",
    "                    \"Works Count\": '',\n",
    "                    \"H-Index\": '',\n",
    "                    \"Country Code\": ''\n",
    "                })\n",
    "        else:\n",
    "            print(f\"Error fetching data for {name}: {response.status_code}\")\n",
    "\n",
    "print(f\"Fetched data for {len(data_list)} authors.\")\n"
   ]
  },
  {
   "cell_type": "code",
   "execution_count": 8,
   "metadata": {},
   "outputs": [
    {
     "name": "stderr",
     "output_type": "stream",
     "text": [
      "/opt/homebrew/Caskroom/miniconda/base/envs/AI/lib/python3.11/site-packages/pandas/io/parsers/arrow_parser_wrapper.py:26: RuntimeWarning: coroutine 'fetch_all_authors' was never awaited\n",
      "  from pandas.io.parsers.base_parser import ParserBase\n",
      "RuntimeWarning: Enable tracemalloc to get the object allocation traceback\n"
     ]
    }
   ],
   "source": [
    "import pandas as pd\n",
    "\n",
    "# Convert list to DataFrame\n",
    "df = pd.DataFrame(data_list)\n",
    "df.to_csv(\"researchers_data_2024.csv\", index=False)"
   ]
  }
 ],
 "metadata": {
  "anaconda-cloud": {},
  "kernelspec": {
   "display_name": "AI",
   "language": "python",
   "name": "python3"
  },
  "language_info": {
   "codemirror_mode": {
    "name": "ipython",
    "version": 3
   },
   "file_extension": ".py",
   "mimetype": "text/x-python",
   "name": "python",
   "nbconvert_exporter": "python",
   "pygments_lexer": "ipython3",
   "version": "3.11.11"
  }
 },
 "nbformat": 4,
 "nbformat_minor": 4
}
