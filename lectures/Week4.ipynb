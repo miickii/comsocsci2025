{
 "cells": [
  {
   "cell_type": "markdown",
   "metadata": {},
   "source": [
    "## Overview\n",
    "\n",
    "\n",
    "Following our section on data collection, we shift focus to analyzing social data. The course will now cover basic tools in Network and Text Analysis, applying these to previously collected data. We start with Network Science.\n",
    "\n",
    "Networks, or graphs, are crucial for representing and analyzing social systems. This week introduces networks through three main topics:\n",
    "\n",
    "* __Context__: An overview of network science history and basic network concepts.\n",
    "* __The NetworkX Library__: Introduction to this Python library for network analysis.\n",
    "* __Basic Network Analysis:__ We will analyze and visualize the network of Computational Social Scientists using NetworkX.\n",
    "  \n",
    "The objective is to ensure you learn about the field of network science and get hands-on experience using the NetworkX library for fundamental analysis."
   ]
  },
  {
   "cell_type": "markdown",
   "metadata": {},
   "source": [
    "# Part 1: Basic mathematical description of networks\n",
    "\n",
    "This week, let's start with some lecturing. First, we will go through the history of Network Science. \n",
    "\n",
    "> **_Video Lecture_**. Start by watching the \"History of Networks\""
   ]
  },
  {
   "cell_type": "code",
   "execution_count": 11,
   "metadata": {},
   "outputs": [
    {
     "data": {
      "image/jpeg": "[encoded data removed]",
      "text/html": [
       "\n",
       "        <iframe\n",
       "            width=\"800\"\n",
       "            height=\"450\"\n",
       "            src=\"https://www.youtube.com/embed/kt6J36e0JCk\"\n",
       "            frameborder=\"0\"\n",
       "            allowfullscreen\n",
       "            \n",
       "        ></iframe>\n",
       "        "
      ],
      "text/plain": [
       "<IPython.lib.display.YouTubeVideo at 0x7fc4aa206c20>"
      ]
     },
     "execution_count": 11,
     "metadata": {},
     "output_type": "execute_result"
    }
   ],
   "source": [
    "from IPython.display import YouTubeVideo\n",
    "YouTubeVideo(\"kt6J36e0JCk\",width=800, height=450)"
   ]
  },
  {
   "cell_type": "markdown",
   "metadata": {},
   "source": [
    "> **_Video Lecture_**. Then check out a short video on \"Network Notation\""
   ]
  },
  {
   "cell_type": "code",
   "execution_count": 12,
   "metadata": {},
   "outputs": [
    {
     "data": {
      "image/jpeg": "[encoded data removed]",
      "text/html": [
       "\n",
       "        <iframe\n",
       "            width=\"800\"\n",
       "            height=\"450\"\n",
       "            src=\"https://www.youtube.com/embed/_AT9HaTE9nE\"\n",
       "            frameborder=\"0\"\n",
       "            allowfullscreen\n",
       "            \n",
       "        ></iframe>\n",
       "        "
      ],
      "text/plain": [
       "<IPython.lib.display.YouTubeVideo at 0x7fc4aa206f20>"
      ]
     },
     "execution_count": 12,
     "metadata": {},
     "output_type": "execute_result"
    }
   ],
   "source": [
    "YouTubeVideo(\"_AT9HaTE9nE\",width=800, height=450)"
   ]
  },
  {
   "cell_type": "markdown",
   "metadata": {},
   "source": [
    "> __Reading__. To better familiarize with basic concepts in Network Science, we will read two chapters in the _Network Science_ book by Laszlo Barabasi. You can read the whole \n",
    "> book for free [**here**](http://barabasi.com/networksciencebook/). \n",
    "> \n",
    "> * [Read chapter 1](http://networksciencebook.com/chapter/1)\n",
    "> * [Read chapter 2](http://networksciencebook.com/chapter/2)\n",
    "> "
   ]
  },
  {
   "cell_type": "markdown",
   "metadata": {},
   "source": [
    "# Prelude to Part 2: The NetworkX library "
   ]
  },
  {
   "cell_type": "markdown",
   "metadata": {},
   "source": [
    "In this course, we will leverage the NetworkX Python library for network analysis. To effectively work with real-world networks, it is essential that you familiarize with NetworkX beforehand.\n",
    "\n",
    "> __Exercise__\n",
    ">\n",
    "> * Download the NetworkX project's [tutorial](https://networkx.org/documentation/stable/tutorial_full.ipynb). Familiarize with the basics like creating graphs, accessing node and edge properties, and visualizing graphs.\n",
    "> * Experiment with the tutorial code. Feel free to tweak it to understand how things work."
   ]
  },
  {
   "cell_type": "markdown",
   "metadata": {},
   "source": [
    "# Part 2: Basic analysis of the network of Computational Social Scientists"
   ]
  },
  {
   "cell_type": "markdown",
   "metadata": {},
   "source": [
    "Ok, enough with theory. It is time to go back to our dataset. \n",
    "We will build the network of Computational Social Scientists. Then, we will use some Network Science to study some of its properties."
   ]
  },
  {
   "cell_type": "markdown",
   "metadata": {},
   "source": [
    "> **Exercise 1: Constructing the Computational Social Scientists Network**\n",
    ">\n",
    "> In this exercise, we will create a network of researchers in the field of Computational Social Science using the NetworkX library. In our network, nodes represent authors of academic papers, with a direct link from node _A_ to node _B_ indicating a joint paper written by both. The link's weight reflects the number of papers written by both _A_ and _B_.\n",
    ">\n",
    "> **Part 1: Network Construction**\n",
    ">\n",
    "> 1. **Weighted Edgelist Creation:** Start with your dataframe of *papers*. Construct a _weighted edgelist_ where each list element is a tuple containing three elements: the _author ids_ of two collaborating authors and the total number of papers they've co-authored. Ensure each author pair is listed only once. \n",
    ">"
   ]
  },
  {
   "cell_type": "code",
   "execution_count": 12,
   "metadata": {},
   "outputs": [
    {
     "name": "stdout",
     "output_type": "stream",
     "text": [
      "                            author1                           author2  weight\n",
      "0  https://openalex.org/A5014647140  https://openalex.org/A5082953212       2\n",
      "1  https://openalex.org/A5014647140  https://openalex.org/A5067142016       4\n",
      "2  https://openalex.org/A5067142016  https://openalex.org/A5082953212       1\n",
      "3  https://openalex.org/A5008033989  https://openalex.org/A5014647140       5\n",
      "4  https://openalex.org/A5008033989  https://openalex.org/A5067142016       4\n"
     ]
    }
   ],
   "source": [
    "import pandas as pd\n",
    "from itertools import combinations\n",
    "from collections import defaultdict\n",
    "\n",
    "# Indlæs data\n",
    "papers_df = pd.read_csv(\"files/combined_papers_filtered.csv\")\n",
    "\n",
    "# Omdan 'author_ids' fra streng til liste\n",
    "papers_df[\"author_ids\"] = papers_df[\"author_ids\"].apply(eval)  # Evaluerer strengen som en liste\n",
    "\n",
    "# Dictionary til at tælle forfattersamarbejder\n",
    "coauthor_counts = defaultdict(int)\n",
    "\n",
    "# Gå igennem hver artikel og find samarbejdende forfattere\n",
    "for author_list in papers_df[\"author_ids\"]:\n",
    "    for author1, author2 in combinations(author_list, 2):\n",
    "        pair = tuple(sorted((author1, author2)))  # Sortér for at undgå duplikater\n",
    "        coauthor_counts[pair] += 1\n",
    "\n",
    "# Omdan til en vægtet edgelist (liste af tuples)\n",
    "weighted_edgelist = [(a, b, count) for (a, b), count in coauthor_counts.items()]\n",
    "\n",
    "# Konverter til en DataFrame for bedre visning og lagring\n",
    "edgelist_df = pd.DataFrame(weighted_edgelist, columns=[\"author1\", \"author2\", \"weight\"])\n",
    "\n",
    "# Gem resultatet til en CSV-fil\n",
    "edgelist_df.to_csv(\"files/weighted_edgelist.csv\", index=False)\n",
    "\n",
    "# Udskriv de første rækker\n",
    "print(edgelist_df.head())"
   ]
  },
  {
   "cell_type": "markdown",
   "metadata": {},
   "source": [
    "> 2. **Graph Construction:**\n",
    ">    - Use NetworkX to create an undirected [``Graph``](https://networkx.org/documentation/stable/reference/classes/graph.html).\n",
    ">    - Employ the [`add_weighted_edges_from`](https://networkx.org/documentation/stable/reference/classes/generated/networkx.Graph.add_weighted_edges_from.html#networkx.Graph.add_weighted_edges_from) function to populate the graph with the weighted edgelist from step 1, creating a weighted, undirected graph.\n",
    ">"
   ]
  },
  {
   "cell_type": "code",
   "execution_count": 14,
   "metadata": {},
   "outputs": [
    {
     "name": "stdout",
     "output_type": "stream",
     "text": [
      "Antal noder: 16190\n",
      "Antal kanter: 65448\n"
     ]
    }
   ],
   "source": [
    "import networkx as nx\n",
    "import pickle\n",
    "%matplotlib inline\n",
    "\n",
    "researchers_graph = nx.Graph()\n",
    "\n",
    "edgelist_df = pd.read_csv(\"files/weighted_edgelist.csv\")\n",
    "\n",
    "# Tilføj vægtede kanter fra edgelisten\n",
    "researchers_graph.add_weighted_edges_from(edgelist_df.itertuples(index=False, name=None))\n",
    "\n",
    "# Udskriv grundlæggende information om grafen\n",
    "print(f\"Antal noder: {researchers_graph.number_of_nodes()}\")\n",
    "print(f\"Antal kanter: {researchers_graph.number_of_edges()}\")\n",
    "\n",
    "with open(\"files/author_collaboration_graph.pkl\", \"wb\") as f:\n",
    "    pickle.dump(researchers_graph, f)"
   ]
  },
  {
   "cell_type": "markdown",
   "metadata": {},
   "source": [
    "> 3. **Node Attributes:**\n",
    ">    - For each node, add attributes for the author's _display name_, _country_, _citation count_, and the _year of their first publication_ in Computational Social Science. This information should be retrieved from your _authors_ dataset. You can use the _papers_ dataset to retreive the total number of citations per author. \n",
    ">    - Save the network as a JSON file.\n",
    ">      "
   ]
  },
  {
   "cell_type": "code",
   "execution_count": 15,
   "metadata": {},
   "outputs": [],
   "source": [
    "author_citations = defaultdict(int)\n",
    "author_first_pub_year = defaultdict(lambda: float('inf'))\n",
    "\n",
    "for _, row in papers_df.iterrows():\n",
    "    publication_year = row[\"publication_year\"]\n",
    "    for author_id in row[\"author_ids\"]:\n",
    "        author_citations[author_id] += row[\"cited_by_count\"]\n",
    "        if publication_year < author_first_pub_year[author_id]:\n",
    "            author_first_pub_year[author_id] = publication_year\n",
    "\n",
    "# Replace 'inf' with None if no publication year found\n",
    "author_first_pub_year = {k: (v if v != float('inf') else None) for k, v in author_first_pub_year.items()}\n",
    "\n",
    "authors_df = pd.read_csv(\"files/authors_combined.csv\")\n",
    "# Iterate through authors in the authors dataframe\n",
    "for _, author in authors_df.iterrows():\n",
    "    author_id = author[\"ID\"]\n",
    "    \n",
    "    if author_id in researchers_graph.nodes:\n",
    "        researchers_graph.nodes[author_id][\"name\"] = author[\"Name\"]\n",
    "        researchers_graph.nodes[author_id][\"country\"] = author[\"Country Code\"]\n",
    "        researchers_graph.nodes[author_id][\"citation_count\"] = author_citations.get(author_id, 0)\n",
    "        researchers_graph.nodes[author_id][\"first_publication_year\"] = author_first_pub_year.get(author_id, None)\n"
   ]
  },
  {
   "cell_type": "code",
   "execution_count": 17,
   "metadata": {},
   "outputs": [
    {
     "name": "stdout",
     "output_type": "stream",
     "text": [
      "Network Density: 0.000499\n",
      "Number of connected components: 111\n"
     ]
    }
   ],
   "source": [
    "# Density = Actual links / Maximum possible links\n",
    "network_density = nx.density(researchers_graph)\n",
    "print(f\"Network Density: {network_density:.6f}\")\n",
    "\n",
    "is_connected = nx.is_connected(researchers_graph)\n",
    "\n",
    "if not is_connected:\n",
    "    # Calculate the number of connected components\n",
    "    connected_components = nx.number_connected_components(researchers_graph)\n",
    "    print(f\"Number of connected components: {connected_components}\")"
   ]
  },
  {
   "cell_type": "code",
   "execution_count": 19,
   "metadata": {},
   "outputs": [
    {
     "name": "stdout",
     "output_type": "stream",
     "text": [
      "Degree - Average: 8.084990735021618, Median: 6.0, Mode: 4, Min: 1, Max: 339\n",
      "Strength - Average: 15.537615812229772, Median: 8.0, Mode: 4, Min: 1, Max: 600\n"
     ]
    }
   ],
   "source": [
    "from statistics import mode, median\n",
    "\n",
    "# Get the degree (number of edges) of each node\n",
    "degrees = dict(researchers_graph.degree())\n",
    "\n",
    "# Get the strength (weighted degree) of each node\n",
    "strengths = dict(researchers_graph.degree(weight='weight'))\n",
    "\n",
    "# Calculate degree statistics\n",
    "degree_values = list(degrees.values())\n",
    "strength_values = list(strengths.values())\n",
    "\n",
    "# Degree metrics\n",
    "average_degree = sum(degree_values) / len(degree_values)\n",
    "median_degree = median(degree_values)\n",
    "mode_degree = mode(degree_values)\n",
    "min_degree = min(degree_values)\n",
    "max_degree = max(degree_values)\n",
    "\n",
    "print(f\"Degree - Average: {average_degree}, Median: {median_degree}, Mode: {mode_degree}, Min: {min_degree}, Max: {max_degree}\")\n",
    "\n",
    "# Strength (weighted degree) metrics\n",
    "average_strength = sum(strength_values) / len(strength_values)\n",
    "median_strength = median(strength_values)\n",
    "mode_strength = mode(strength_values)\n",
    "min_strength = min(strength_values)\n",
    "max_strength = max(strength_values)\n",
    "\n",
    "print(f\"Strength - Average: {average_strength}, Median: {median_strength}, Mode: {mode_strength}, Min: {min_strength}, Max: {max_strength}\")"
   ]
  },
  {
   "cell_type": "code",
   "execution_count": 20,
   "metadata": {},
   "outputs": [
    {
     "name": "stdout",
     "output_type": "stream",
     "text": [
      "Top 5 authors by degree:\n",
      "Author: Yan Wang, ID: https://openalex.org/A5100322712, Degree: 339\n",
      "Author: Yi Yang, ID: https://openalex.org/A5005421447, Degree: 301\n",
      "Author: Simon A. Levin, ID: https://openalex.org/A5077712228, Degree: 267\n",
      "Author: Alex Pentland, ID: https://openalex.org/A5007176508, Degree: 240\n",
      "Author: Yong Li, ID: https://openalex.org/A5100355277, Degree: 240\n"
     ]
    }
   ],
   "source": [
    "# Identify the top 5 authors by degree\n",
    "top_authors_by_degree = sorted(degrees.items(), key=lambda x: x[1], reverse=True)[:5]\n",
    "\n",
    "print(\"Top 5 authors by degree:\")\n",
    "for author_id, degree in top_authors_by_degree:\n",
    "    author_name = researchers_graph.nodes[author_id].get(\"name\", \"Unknown\")\n",
    "    print(f\"Author: {author_name}, ID: {author_id}, Degree: {degree}\")"
   ]
  },
  {
   "cell_type": "markdown",
   "metadata": {},
   "source": [
    "> **Part 2: Preliminary Network Analysis**\n",
    "> Now, with the network constructed, perform a basic analysis to explore its features.\n",
    "> 1. **Network Metrics:**\n",
    ">    - What is the total number of nodes (authors) and links (collaborations) in the network? \n",
    "\n",
    "Number of nodes is 16190, and number of links is 65448\n",
    "\n",
    ">    - Calculate the network's density (the ratio of actual links to the maximum possible number of links). Would you say that the network is sparse? Justify your answer.\n",
    "\n",
    "The network density is 0.000499, which means that the actual links is far from the possible number of links, so the network is sparse.\n",
    "\n",
    ">    - Is the network fully connected (i.e., is there a direct or indirect path between every pair of nodes within the network), or is it disconnected?\n",
    "\n",
    "The network is not fully connected\n",
    "\n",
    ">    - If the network is disconnected, how many connected components does it have? A connected component is defined as a subset of nodes within the network where a path exists between any pair of nodes in that subset. \n",
    "\n",
    "There are 111 connected components\n",
    "\n",
    ">    - How many isolated nodes are there in your network?  An isolated node is defined as a node with no connections to any other node in the network.\n",
    "\n",
    "There are zero isolated nodes\n",
    "\n",
    ">    - Discuss the results above on network density, and connectivity. Are your findings in line with what you expected? Why? \n",
    "\n",
    "The low density makes sense, since many authors have only collaborated with a smaller subset of the total amount of authors. The network not being fully connected also makes sense due to geography, and teams of researchers that have only collaborated between each others.\n",
    "\n",
    "> \n",
    "> 3. **Degree Analysis:**\n",
    ">    - Compute the average, median, mode, minimum, and maximum degree of the nodes. Perform the same analysis for node strength (weighted degree). What do these metrics tell us about the network?\n",
    "> \n",
    "Degree - Average: 8.084990735021618, Median: 6.0, Mode: 4, Min: 1, Max: 339\n",
    "Strength - Average: 15.537615812229772, Median: 8.0, Mode: 4, Min: 1, Max: 600\n",
    "\n",
    "This means that on average each author has collaborated with 8 other authors. The most common degree is 4, suggesting that many authors have collaborated with exactly 4 other authors, showing a typical small team size.\n",
    "\n",
    "The average strength is larger than the average degree, indicating that many authors have multiple strong collaborations. The median strength is higher than the median degree, showing that even authors with fewer collaborators may have stronger or repeated collaborations. The most collaborative author has a strength of 600\n",
    "\n",
    "> 4. **Top Authors:**\n",
    ">    - Identify the top 5 authors by degree. What role do these node play in the network? \n",
    ">    - Research these authors online. What areas do they specialize in? Do you think that their work aligns with the themes of Computational Social Science? If not, what could be possible reasons? \n",
    "\n",
    "Top 5 authors by degree:\n",
    "Author: Yan Wang, ID: https://openalex.org/A5100322712, Degree: 339  \n",
    "- Looking at her work she has published alot in the field of computer science and machine learning\n",
    "\n",
    "Author: Yi Yang, ID: https://openalex.org/A5005421447, Degree: 301  \n",
    "- Looking at his work he has published a lot in the field of computer science as well\n",
    "\n",
    "Author: Simon A. Levin, ID: https://openalex.org/A5077712228, Degree: 267  \n",
    "- Simon has worked on topics related to the medical field, such at epidemics, this is very relevant to the themes of computational social science\n",
    "\n",
    "Author: Alex Pentland, ID: https://openalex.org/A5007176508, Degree: 240  \n",
    "- He has many papers in the topic of human mobility, this also aligns with computational social science. He also has a lot about computer science.\n",
    "\n",
    "Author: Yong Li, ID: https://openalex.org/A5100355277, Degree: 240  \n",
    "- His top topic is human mobility and also has works related to networks. This is also very aligned with the themes of computational social science.\n",
    "\n",
    "All of the top authors have a lot of work in the computer science field. It makes sense that the top collaborators would be computer scientists"
   ]
  },
  {
   "cell_type": "markdown",
   "metadata": {},
   "source": [
    "Take the network of Computational Social Scientists you built in the exercise above.\n",
    "To get an idea about how the network looks like, we start visualizing it. For this exercise, we will use the __awesome library [``netwulf``](https://netwulf.readthedocs.io/en/latest/index.html)__ created by Ulf Aslak and Ben Maier, two colleagues of mine. \n",
    "You can install it via ``pip install netwulf``. \n",
    "\n",
    "Netwulf is built on top of [d3-force](https://github.com/d3/d3-force), a Javascript library that simulates the dynamics of particles moving in 2D. In the visualization, particles correspond to network nodes subject to forces:\n",
    " * Nodes are attracted to the center of the viz \n",
    " * Nodes repel each other\n",
    " * Nodes linked by an edge will preferably stay at a fixed distance to each other.\n",
    "\n",
    "Come and ask me if you want to know more!"
   ]
  },
  {
   "cell_type": "markdown",
   "metadata": {},
   "source": [
    "> __Exercise 2: Visualize the network of Computational Social scientists.__\n",
    ">\n",
    "> * Extract the [largest connected components](https://networkx.org/documentation/stable/reference/algorithms/generated/networkx.algorithms.components.connected_components.html) from your network. The largest connected component is the one with the largest number of nodes. \n",
    "> * Visualize the largest connected component using the function [``visualize``](https://netwulf.readthedocs.io/en/latest/reference/interactive.html?highlight=visualize#netwulf.interactive.visualize) of the Netwulf package. \n",
    "> * Play with the parameters of the netwulf algorithm to obtain a visualization you like. To understand better what the parameters mean, have a look at the [documentation](https://netwulf.readthedocs.io/en/latest/visualization/init.html?). Your visualization may look similar to the one below, where I made the size of nodes proportional to their strength (sum of weights of incoming edges), and I added the names of the top Computational Social Scientists by degree... But not necessarily! Just have fun making your own version. You can save the figure directly from the interactive visualization panel, or plot it in higher resolution in matplotlib following [this example](https://netwulf.readthedocs.io/en/latest/cookbook/cookbook.html#save-as-pdf).\n",
    "> * Describe the structure you observe. Can you identify nodes with a privileged position in the network?\n",
    "> * _Optional_: You can color nodes based on a property of your interest (e.g. country, citations). For example, I colored nodes based on their country. What do you observe? Can you find specific nodes properties that seem to correlate with a node's position in the network?\n",
    ">  \n",
    "> **Note:** I encourage you to use Netwulf because they enable to make better visualizations, but you can also try to use the [draw](https://networkx.org/documentation/stable/reference/drawing.html) function built in NetworkX.\n",
    ">\n",
    "> __Go on [DTU Learn](https://learn.inside.dtu.dk/d2l/lms/survey/user/attempt/survey_start_frame.d2l?si=31327&ou=242061) and complete the Survey: Week 4 - The Network__\n",
    "\n",
    "<img src=\"https://raw.githubusercontent.com/TheYuanLiao/comsocsci2025/main/figures/network.png\" alt=\"Drawing\" style=\"width: 800px;\"/>"
   ]
  },
  {
   "cell_type": "code",
   "execution_count": 21,
   "metadata": {},
   "outputs": [
    {
     "name": "stdout",
     "output_type": "stream",
     "text": [
      "Antal noder i største komponent: 15420\n",
      "Antal kanter i største komponent: 63659\n"
     ]
    }
   ],
   "source": [
    "# Find alle sammenhængende komponenter\n",
    "largest_cc = max(nx.connected_components(researchers_graph), key=len)\n",
    "\n",
    "# Opret en subgraf af den største sammenhængende komponent\n",
    "G_largest = researchers_graph.subgraph(largest_cc).copy()\n",
    "\n",
    "print(f\"Antal noder i største komponent: {G_largest.number_of_nodes()}\")\n",
    "print(f\"Antal kanter i største komponent: {G_largest.number_of_edges()}\")"
   ]
  },
  {
   "cell_type": "code",
   "execution_count": 23,
   "metadata": {},
   "outputs": [
    {
     "name": "stderr",
     "output_type": "stream",
     "text": [
      "/opt/homebrew/Caskroom/miniconda/base/envs/AI/lib/python3.11/site-packages/networkx/readwrite/json_graph/node_link.py:142: FutureWarning: \n",
      "The default value will be `edges=\"edges\" in NetworkX 3.6.\n",
      "\n",
      "To make this warning go away, explicitly set the edges kwarg, e.g.:\n",
      "\n",
      "  nx.node_link_data(G, edges=\"links\") to preserve current behavior, or\n",
      "  nx.node_link_data(G, edges=\"edges\") for forward compatibility.\n",
      "  warnings.warn(\n"
     ]
    },
    {
     "data": {
      "text/plain": [
       "(None, None)"
      ]
     },
     "execution_count": 23,
     "metadata": {},
     "output_type": "execute_result"
    }
   ],
   "source": [
    "import numpy as np\n",
    "import netwulf as nw\n",
    "\n",
    "# Loop gennem alle noder og fjern uønskede værdier\n",
    "for node, attributes in G_largest.nodes(data=True):\n",
    "    for key, value in attributes.items():\n",
    "        if isinstance(value, float) and (np.isnan(value) or np.isinf(value)):\n",
    "            G_largest.nodes[node][key] = 0  # Erstat med 0 eller en anden værdi\n",
    "\n",
    "\n",
    "for u, v, attributes in G_largest.edges(data=True):\n",
    "    for key, value in attributes.items():\n",
    "        if isinstance(value, float) and (np.isnan(value) or np.isinf(value)):\n",
    "            G_largest.edges[u, v][key] = 1  # Erstat med 1 eller en anden værdi\n",
    "\n",
    "nw.visualize(G_largest) "
   ]
  }
 ],
 "metadata": {
  "anaconda-cloud": {},
  "kernelspec": {
   "display_name": "AI",
   "language": "python",
   "name": "python3"
  },
  "language_info": {
   "codemirror_mode": {
    "name": "ipython",
    "version": 3
   },
   "file_extension": ".py",
   "mimetype": "text/x-python",
   "name": "python",
   "nbconvert_exporter": "python",
   "pygments_lexer": "ipython3",
   "version": "3.11.8"
  }
 },
 "nbformat": 4,
 "nbformat_minor": 4
}
