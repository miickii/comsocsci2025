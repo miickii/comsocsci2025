{
 "cells": [
  {
   "cell_type": "markdown",
   "metadata": {},
   "source": [
    "# Overview\n",
    "\n",
    "We're now switching focus away from the Network Science, beginning to think about _Text_ instead. In other words, today will be all about learning to parse and make sense of textual data. This ties in nicely with our work on the network of Computational Social Scientists, because papers naturally contain text.\n",
    "\n",
    "We've looked at the network so far - now, let's see if we can include the text. Today is about \n",
    "\n",
    "* Part 1 - Installing the _natural language toolkit_ (NLTK) package and learning the basics of how it works (Chapter 1)\n",
    "* Part 2 -  Figuring out how to make NLTK to work with real world data (Chapter 3).\n",
    "* Part 3 - Apply some of the concepts that you have learned to study the abstract dataset"
   ]
  },
  {
   "cell_type": "markdown",
   "metadata": {},
   "source": [
    "> **_Video Lecture_**. [Intro to Natural Language processing](https://www.youtube.com/watch?v=Ph0EHmFT3n4). Today is all about working with NLTK, so not much lecturing - we will start with a perspective on text analysis by Sune (you will hear him talking about Wikipedia data here and there. Everything he sais applies to other textual data as well!)"
   ]
  },
  {
   "cell_type": "markdown",
   "metadata": {},
   "source": [
    "#  Part 1 : Installing and the basics"
   ]
  },
  {
   "cell_type": "code",
   "execution_count": 4,
   "metadata": {},
   "outputs": [
    {
     "data": {
      "image/jpeg": "[encoded data removed]",
      "text/html": [
       "\n",
       "        <iframe\n",
       "            width=\"800\"\n",
       "            height=\"450\"\n",
       "            src=\"https://www.youtube.com/embed/Ph0EHmFT3n4\"\n",
       "            frameborder=\"0\"\n",
       "            allowfullscreen\n",
       "            \n",
       "        ></iframe>\n",
       "        "
      ],
      "text/plain": [
       "<IPython.lib.display.YouTubeVideo at 0x7ff6605dedc0>"
      ]
     },
     "execution_count": 4,
     "metadata": {},
     "output_type": "execute_result"
    }
   ],
   "source": [
    "from IPython.display import YouTubeVideo\n",
    "YouTubeVideo(\"Ph0EHmFT3n4\",width=800, height=450)"
   ]
  },
  {
   "cell_type": "markdown",
   "metadata": {},
   "source": [
    "\n",
    "> _Reading_\n",
    "> The reading for today is Natural Language Processing with Python (NLPP) Chapter 1, Sections 1, 2, 3\\. [It's free online](http://www.nltk.org/book/). \n"
   ]
  },
  {
   "cell_type": "markdown",
   "metadata": {},
   "source": [
    "> *Exercises*: NLPP Chapter 1\\.\n",
    "> \n",
    "> * First, install `nltk` if it isn't installed already.\n",
    "> * Second, work through chapter 1. The book is set up as a kind of tutorial with lots of examples for you to work through. I recommend you read the text with an open IPython Notebook and type out the examples that you see. ***It becomes much more fun if you to add a few variations and see what happens***. Some of those examples might very well be due as assignments, so those ones should definitely be in a `notebook`. \n",
    ">     * The following exercises from Chapter 1 are what might be due in an assignment later on.\n",
    ">     * Try out the `concordance` method, using another text and a word of your own choosing.\n",
    ">     * Also try out the `similar` and `common_context` methods for a few of your own examples.\n",
    ">     * Create your own version of a dispersion plot (\"your own version\" means another text and different word).\n",
    ">     * Explain in your own words what aspect of language _lexical diversity_ describes. \n"
   ]
  },
  {
   "cell_type": "markdown",
   "metadata": {},
   "source": [
    "# Part 2 - Processing real text (from out on the inter-webs)\n",
    "\n",
    "Ok. So Chapter 3 in NLPP is all about working with text from the real world. Getting text from this internet, cleaning it, tokenizing, modifying (e.g. stemming, converting to lower case, etc) to get the text in shape to work with the NLTK tools you've already learned about.\n",
    "> \n",
    "> **Video lecture**: Short overview of chapter 3 + a few words about kinds of language processing that we don't address in this class. \n",
    "> "
   ]
  },
  {
   "cell_type": "code",
   "execution_count": 5,
   "metadata": {},
   "outputs": [
    {
     "data": {
      "image/jpeg": "[encoded data removed]",
      "text/html": [
       "\n",
       "        <iframe\n",
       "            width=\"800\"\n",
       "            height=\"450\"\n",
       "            src=\"https://www.youtube.com/embed/Rwakh-HXPJk\"\n",
       "            frameborder=\"0\"\n",
       "            allowfullscreen\n",
       "            \n",
       "        ></iframe>\n",
       "        "
      ],
      "text/plain": [
       "<IPython.lib.display.YouTubeVideo at 0x7ff660604850>"
      ]
     },
     "execution_count": 5,
     "metadata": {},
     "output_type": "execute_result"
    }
   ],
   "source": [
    "from IPython.display import YouTubeVideo\n",
    "YouTubeVideo(\"Rwakh-HXPJk\",width=800, height=450)"
   ]
  },
  {
   "cell_type": "markdown",
   "metadata": {},
   "source": [
    "> *Reading*: NLPP Chapter 3.1, 3.2, 3.3, 3.4, 3.5, 3.6, 3.7, 3.9, and 3.10\\. It's not important that you go in depth with everything here - the key thing is that you *know that Chapter 3 of this book exists*, and that it's a great place to return to if you're ever in need of an explanation on  topics that you forget as soon as you stop using them (and don't worry, I forget about those things too)."
   ]
  },
  {
   "cell_type": "markdown",
   "metadata": {},
   "source": [
    "\n",
    "# Part 3 - Putting things into practice with the abstract dataset\n"
   ]
  },
  {
   "cell_type": "markdown",
   "metadata": {},
   "source": [
    "## Prelude to Exercise 1: Some theory on the Zipf's law. \n",
    "\n",
    "\n",
    "**Zipf's Law:** Let $f(w)$ be the frequency of a word w in free text. Suppose that all the words of a text are ranked according to their frequency, with the most frequent word first. The [Zipf's law](https://en.wikipedia.org/wiki/Zipf%27s_law) states that the frequency of a word type is inversely proportional to its rank (i.e. f × r = k, for some constant k). For example, the 50th most common word type should occur three times as frequently as the 150th most common word type. \n",
    "\n",
    "\n",
    "> _Reading_\n",
    "> Skim through the Wikipedia page on the [Zipf's law](https://en.wikipedia.org/wiki/Zipf%27s_law)"
   ]
  },
  {
   "cell_type": "markdown",
   "metadata": {},
   "source": [
    "> __Exercise 1: Tokenization and Zipf's Law.__ In this exercise, you will explore tokenization and its relation to Zipf's Law through the abstracts of Computational Social Science papers. Starting with your abstracts dataframe from Week 2, follow the steps below to analyze and process the data.\n",
    ">\n",
    "> 1. __Convert Inverted Index to Text.__ Write a function that converts an inverted indexed abstract into plain text. The abstract inverted index is a dictionary. Keys are words and values are lists of indexes. The indexes indicate the positions of the word within the abstract. The function should reconstruct the original abstract in plain text from this inverted index. Then, use the [`pd.apply`](https://pandas.pydata.org/pandas-docs/stable/reference/api/pandas.DataFrame.apply.html) method to apply your function to each row in your dataframe, storing the output in a new column named `text`.\n",
    ">\n",
    "> 2. __Tokenization.__ Create a column `tokens` in your dataframe to store the tokens from each abstract's text. Remember to adhere to the following guidelines for successful tokenization:\n",
    ">  - Revisit Chapter 3 if you're unfamiliar with tokenization.\n",
    ">  - Exclude punctuation, URLs, mathematical symbols, and numbers.\n",
    ">  - Convert all text to lowercase.\n",
    ">  - Optional: Consider using stemming.\n",
    ">  \n",
    "> 3. __Create a Tokens List.__ Combine the tokens from all abstracts into one comprehensive list.\n",
    ">\n",
    "> 4. __Common words.__ Determine and list the 10 most frequent words within your concatenated tokens list.\n",
    ">\n",
    "> 5. __Frequency rank plot.__ Write a function to process your list of tokens and plot word frequency against word rank. Use a logarithmic scale for your plot. Reflect on the trend observed, especially at the extremes of the plotted line.\n",
    "> 6. __Comparison with random words.__ \n",
    ">  - Generate a long, random text string using `random.choice(\"abcdefg \")`, including the space character.\n",
    ">  - Tokenize this string and generate a Zipf plot, comparing it with your earlier plot.\n",
    ">  - Share your insights on Zipf's Law based on this comparison.\n",
    "> 7. __Excluding Stopwords.__\n",
    ">  - Exclude stopwords from your tokens (review NLPP1e if necessary).\n",
    ">  - Repeat Steps 2 to 5 with the refined tokens list.\n",
    ">  - Observe and describe any changes in your findings.\n"
   ]
  },
  {
   "cell_type": "markdown",
   "metadata": {},
   "source": [
    "## Prelude to Exercise 2: Some theory on bigrams and contingency tables .\n",
    "\n",
    "In this course, we use a \"bag-of-words\" approach, because using simple methods to explore the data is very important before applying any complex model. \n",
    "Here, we learn how to account for an issue that often comes up when using a bag-of-words approach when studying textual data. \n",
    "[*Collocations*](https://en.wikipedia.org/wiki/Collocation), are *pairs of words that tend to appear together more often than by chance*. It is an important concept in linguistics. \n",
    "\n",
    "In the case of collocations, words should be considered together to retain their original meaning (e.g. *machine learning* is not simply *machine* and *learning*. The same applies to *computer science*, *social media*, *computational social science* ).\n",
    "\n",
    "**How do we find out if a pair of words $w_1, w_2$ appears in a corpus more often than one would expect by chance?** We study the corresponding *contingency table*.\n",
    "Given a corpus, and two words $w_1$ and $w_2$, the observerd contingency table is a matrix with the following elements:\n",
    "\n",
    "$$O_{w_1,w_2}= \\begin{bmatrix} n_{ii} & n_{io} \\\\ n_{oi} & n_{oo} \\end{bmatrix}$$\n",
    "\n",
    "$n_{ii}$: the number of times the bigram ($w_1$, $w_2$) appear in the corpus     \n",
    "$n_{io}$: the number of bigrams ($w_1$, * ), where the first element is $w_1$ and the second element is **not** $w_2$         \n",
    "$n_{oi}$:  the number of bigrams ( * , $w_2$ ), where the first element is **not** $w_1$ and the second element is $w_2$    \n",
    "$n_{oo}$: the number of bigrams ( * , * ) where the first element is **not** $w_1$ and the second is **not** $w_2$. \n",
    "\n",
    "Then, we can compare the observed number of occurrences of the bigram, $n_{ii}$, with the number of occurrences we would expect simply by random chance.    \n",
    "\n",
    "If we define: \n",
    "\n",
    "$R_{1}=n_{ii}+n_{io}$: the bigrams containing the word $w_1$  (sum of first row)    \n",
    "$C_{1}=n_{ii}+n_{oi}$: the bigrams containing the word $w_2$ (sum of first column)    \n",
    "$R_{2}=n_{oi}+n_{oo}$: the bigrams **not** containing the word $w_1$  (sum of second row)    \n",
    "$C_{2}=n_{io}+n_{oo}$: the bigrams **not** containing the word $w_2$  (sum of second column)    \n",
    "$N = R_1 + C_1 + R_2 + C_2$: the total number of bigrams\n",
    "\n",
    "Then, the \"expected\" contingency table is: \n",
    "\n",
    "$$E_{w_1,w_2}= \\begin{bmatrix} \\frac{R_1C_1}{N} & \\frac{R_1C_2}{N} \\\\ \\frac{R_2C_1}{N} & \\frac{R_2C_2}{N} \\end{bmatrix}$$\n",
    "\n",
    "\n",
    "We can then check if our bigram ${w_1,w_2}$ appears more than what we would expect by chance by comparing how similar are the values of $O_{w_1,w_2}$ and $E_{w_1,w_2}$. \n",
    "A widely used way to do that is to use a [Chi-Squared test](https://en.wikipedia.org/wiki/Chi-squared_test).\n"
   ]
  },
  {
   "cell_type": "markdown",
   "metadata": {},
   "source": [
    "> **Exercise 2: Bigrams and contingency tables**. \n",
    "> 1. Find the list of bigrams in each of the abstracts. If you don't remember how to do it, go back to [Chapter 1](http://www.nltk.org/book/) of your book. Store all the bigrams in a single list. __Important__: here you shall work with the clean set of tokens you have generated in the exercise above (after removing punctuation, **stopwords**, digits, math symbols, etc).    \n",
    ">    \n",
    "> 2. For each unique bigram in your list:\n",
    ">   - compute the corresponding *contingency table* (see the theory just above)\n",
    ">   - compute the expected *contingency table* (see the theory just above) \n",
    ">\n",
    "> 3. For each unique bigram, compute the Chi-squared statistics: $X^2 = \\sum_{ij}\\frac{(O_{ij} - E_{ij})^2}{E_{ij}}$, where $O_{ij}$ and $E_{ij}$ are the elements of the observed and expected matrix, respectively. \n",
    "> 4. Compute the p-value associated to each Chi-squared statistics. The p-value is nothing but the survival function (1 - cumulative distribution function) of the [Chi-squared distribution](https://docs.scipy.org/doc/scipy/reference/generated/scipy.stats.chi2.html). Hence, you can simply compute it as: ``scipy.stats.chi2.sf(X^2,df=1)`` because in this case we have 1 degree of freedom (df=1).  \n",
    "> 5. Find the list of bigrams that appear more than 50 times and have p-value smaller than 0.001. We refer to those as __collocations__. \n",
    "> 6. How many collocations have you found? Print out the top 20 of them by number of occurrences. What do you observe? What kind of bigrams does this list include? \n",
    "> 7. Recompute the __tokens__ column in your dataframe. This time, do not split pairs of words that constitute a collocation (from now on we consider those two words as a single \"token\"). **Hint:** You can use the [MWETokenizer](https://www.nltk.org/_modules/nltk/tokenize/mwe.html). \n",
    "> 8. Save your abstract dataframe with the new __tokens__ column."
   ]
  }
 ],
 "metadata": {
  "anaconda-cloud": {},
  "kernelspec": {
   "display_name": "Python 3 (ipykernel)",
   "language": "python",
   "name": "python3"
  },
  "language_info": {
   "codemirror_mode": {
    "name": "ipython",
    "version": 3
   },
   "file_extension": ".py",
   "mimetype": "text/x-python",
   "name": "python",
   "nbconvert_exporter": "python",
   "pygments_lexer": "ipython3",
   "version": "3.9.7"
  }
 },
 "nbformat": 4,
 "nbformat_minor": 1
}
