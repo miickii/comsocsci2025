{
 "cells": [
  {
   "cell_type": "code",
   "execution_count": 1,
   "metadata": {},
   "outputs": [],
   "source": [
    "import pandas as pd\n",
    "\n",
    "authors_papers_df = pd.read_csv(\"files/ic2s2_papers.csv\")\n",
    "authors_abstracts_df = pd.read_csv(\"files/ic2s2_abstracts.csv\")\n",
    "coauthors_papers_df = pd.read_csv(\"files/ic2s2_coauthors_papers.csv\")\n",
    "coauthors_abstracts_df = pd.read_csv(\"files/ic2s2_coauthors_abstracts.csv\")"
   ]
  },
  {
   "cell_type": "code",
   "execution_count": 3,
   "metadata": {},
   "outputs": [
    {
     "name": "stdout",
     "output_type": "stream",
     "text": [
      "Filtered authors papers: (831, 4)\n",
      "authors abstracts: (831, 3)\n",
      "Filtered co-authors papers: (35160, 4)\n",
      "Co-authors abstracts: (35160, 3)\n"
     ]
    }
   ],
   "source": [
    "print(\"Filtered authors papers:\", authors_papers_df.shape)\n",
    "print(\"authors abstracts:\", authors_abstracts_df.shape)\n",
    "print(\"Filtered co-authors papers:\", coauthors_papers_df.shape)\n",
    "print(\"Co-authors abstracts:\", coauthors_abstracts_df.shape)"
   ]
  },
  {
   "cell_type": "code",
   "execution_count": 4,
   "metadata": {},
   "outputs": [
    {
     "name": "stdout",
     "output_type": "stream",
     "text": [
      "Combined authors dataset shape: (12481, 6)\n"
     ]
    }
   ],
   "source": [
    "# (A) Combine authors: concatenate IC2S2 authors and co-authors dataframes and remove duplicates.\n",
    "authors_df = pd.read_csv(\"files/researchers_data_2024.csv\")\n",
    "coauthors_df = pd.read_csv(\"files/ic2s2_coauthors.csv\")\n",
    "\n",
    "combined_authors_df = pd.concat([authors_df, coauthors_df], ignore_index=True)\n",
    "combined_authors_df.drop_duplicates(subset=[\"ID\"], inplace=True)\n",
    "combined_authors_df.to_csv(\"files/authors_combined.csv\", index=False)\n",
    "print(\"Combined authors dataset shape:\", combined_authors_df.shape)"
   ]
  },
  {
   "cell_type": "code",
   "execution_count": 5,
   "metadata": {},
   "outputs": [],
   "source": [
    "import ast\n",
    "\n",
    "# (B) Combine papers: concatenate IC2S2 papers and co-authors papers, drop duplicate works,\n",
    "#     and remove papers with only one author.\n",
    "# Note: If your \"author_ids\" column is stored as a string (e.g., as a list repr), convert it back to list.\n",
    "def parse_author_ids(author_ids):\n",
    "    if isinstance(author_ids, str):\n",
    "        try:\n",
    "            return ast.literal_eval(author_ids)\n",
    "        except Exception:\n",
    "            return []\n",
    "    return author_ids\n",
    "\n",
    "# Ensure the author_ids column is in list format for each paper.\n",
    "for df in [authors_papers_df, coauthors_papers_df]:\n",
    "    if df[\"author_ids\"].dtype == object:\n",
    "        df[\"author_ids\"] = df[\"author_ids\"].apply(parse_author_ids)"
   ]
  },
  {
   "cell_type": "code",
   "execution_count": 6,
   "metadata": {},
   "outputs": [
    {
     "name": "stdout",
     "output_type": "stream",
     "text": [
      "Combined papers dataset shape: (5443, 4)\n"
     ]
    }
   ],
   "source": [
    "combined_papers_df = pd.concat([authors_papers_df, coauthors_papers_df], ignore_index=True)\n",
    "combined_papers_df.drop_duplicates(subset=[\"id\"], inplace=True)\n",
    "# Remove papers with only one author\n",
    "combined_papers_df = combined_papers_df[combined_papers_df[\"author_ids\"].apply(lambda x: len(x) > 1)]\n",
    "combined_papers_df.to_csv(\"files/papers_combined.csv\", index=False)\n",
    "print(\"Combined papers dataset shape:\", combined_papers_df.shape)"
   ]
  },
  {
   "cell_type": "code",
   "execution_count": 9,
   "metadata": {},
   "outputs": [
    {
     "name": "stdout",
     "output_type": "stream",
     "text": [
      "(35991, 3)\n",
      "Combined abstracts dataset shape: (5443, 3)\n"
     ]
    }
   ],
   "source": [
    "# (C) Combine abstracts: simply concatenate and drop duplicates.\n",
    "combined_abstracts_df = pd.concat([authors_abstracts_df, coauthors_abstracts_df], ignore_index=True)\n",
    "print(combined_abstracts_df.shape)\n",
    "combined_abstracts_df.drop_duplicates(subset=[\"id\"], inplace=True)\n",
    "combined_abstracts_df.to_csv(\"files/abstracts_combined.csv\", index=False)\n",
    "print(\"Combined abstracts dataset shape:\", combined_abstracts_df.shape)"
   ]
  }
 ],
 "metadata": {
  "kernelspec": {
   "display_name": "AI",
   "language": "python",
   "name": "python3"
  },
  "language_info": {
   "codemirror_mode": {
    "name": "ipython",
    "version": 3
   },
   "file_extension": ".py",
   "mimetype": "text/x-python",
   "name": "python",
   "nbconvert_exporter": "python",
   "pygments_lexer": "ipython3",
   "version": "3.11.8"
  }
 },
 "nbformat": 4,
 "nbformat_minor": 2
}
